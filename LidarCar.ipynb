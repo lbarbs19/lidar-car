{
  "nbformat": 4,
  "nbformat_minor": 0,
  "metadata": {
    "colab": {
      "provenance": []
    },
    "kernelspec": {
      "name": "python3",
      "display_name": "Python 3"
    },
    "language_info": {
      "name": "python"
    }
  },
  "cells": [
    {
      "cell_type": "markdown",
      "source": [
        "# First mount Google Drive, so you have access to the Car notebook"
      ],
      "metadata": {
        "id": "77AHHDHMGTot"
      }
    },
    {
      "cell_type": "code",
      "execution_count": null,
      "metadata": {
        "id": "6g1sHAyaD81z",
        "colab": {
          "base_uri": "https://localhost:8080/"
        },
        "outputId": "064028f8-e746-4404-d63e-31e25bb5bc22"
      },
      "outputs": [
        {
          "output_type": "stream",
          "name": "stdout",
          "text": [
            "Mounted at mnt\n",
            "/content/mnt/My Drive/Colab Notebooks\n"
          ]
        }
      ],
      "source": [
        "from google.colab import drive\n",
        "drive.mount(\"mnt\")\n",
        "\n",
        "%cd \"mnt/My Drive/Colab Notebooks\""
      ]
    },
    {
      "cell_type": "markdown",
      "source": [
        "# Install ipynb package"
      ],
      "metadata": {
        "id": "LK9phpdjGdHL"
      }
    },
    {
      "cell_type": "code",
      "source": [
        "!pip install import-ipynb\n",
        "import import_ipynb"
      ],
      "metadata": {
        "colab": {
          "base_uri": "https://localhost:8080/"
        },
        "id": "ARjnaOfsGI9-",
        "outputId": "c9030c6e-b1ad-4185-863e-1b9bb1478067"
      },
      "execution_count": null,
      "outputs": [
        {
          "output_type": "stream",
          "name": "stdout",
          "text": [
            "Collecting import-ipynb\n",
            "  Downloading import-ipynb-0.1.3.tar.gz (4.0 kB)\n",
            "Building wheels for collected packages: import-ipynb\n",
            "  Building wheel for import-ipynb (setup.py) ... \u001b[?25l\u001b[?25hdone\n",
            "  Created wheel for import-ipynb: filename=import_ipynb-0.1.3-py3-none-any.whl size=2975 sha256=a65ed1a9927033beeff638d385b51b1e9c72d14e3738de1360ebcfafb05a1e16\n",
            "  Stored in directory: /root/.cache/pip/wheels/b1/5e/dc/79780689896a056199b0b9f24471e3ee184fbd816df355d5f0\n",
            "Successfully built import-ipynb\n",
            "Installing collected packages: import-ipynb\n",
            "Successfully installed import-ipynb-0.1.3\n"
          ]
        }
      ]
    },
    {
      "cell_type": "markdown",
      "source": [
        "# Set up Car world (with state feedack)"
      ],
      "metadata": {
        "id": "biwVBcv1IBNd"
      }
    },
    {
      "cell_type": "code",
      "source": [
        "import os\n",
        "import sys\n",
        "\n",
        "from Car import World\n",
        "from Car import square_hall_right\n",
        "\n",
        "# hallway dimensions\n",
        "hall_width = 2\n",
        "hall_length = 30\n",
        "\n",
        "# car starting position and velocity\n",
        "car_dist_s = 1 # distance to left wall\n",
        "car_dist_f = 28 # distance to front wall\n",
        "car_heading = 0 # relative to walls\n",
        "car_V = 2.4\n",
        "\n",
        "# constant car throttle\n",
        "throttle = 16\n",
        "\n",
        "# car dynamics noise\n",
        "init_pos_noise = 0\n",
        "init_heading_noise = 0\n",
        "front_pos_noise = 0\n",
        "\n",
        "episode_length = 100\n",
        "time_step = 0.1\n",
        "\n",
        "# set this to false if you'd like to use lidar\n",
        "state_feedback = True\n",
        "\n",
        "# lidar parameters\n",
        "lidar_field_of_view = 115\n",
        "lidar_num_rays = 21\n",
        "\n",
        "# various lidar settings\n",
        "lidar_noise = 0\n",
        "missing_lidar_rays = 0\n",
        "lidar_missing_in_turn_only = False\n",
        "\n",
        "# set up a square hallway with right turns\n",
        "(hallWidths, hallLengths, turns) = square_hall_right(hall_width, hall_length)\n",
        "\n",
        "# create the environment\n",
        "w = World(hallWidths, hallLengths, turns,\\\n",
        "          car_dist_s, car_dist_f, car_heading, car_V,\\\n",
        "          episode_length, time_step, lidar_field_of_view,\\\n",
        "          lidar_num_rays, lidar_noise, missing_lidar_rays,\\\n",
        "          lidar_missing_in_turn_only, state_feedback=state_feedback)"
      ],
      "metadata": {
        "colab": {
          "base_uri": "https://localhost:8080/"
        },
        "id": "RsV1sVpJGg8r",
        "outputId": "69063eb8-b789-4c79-acdc-db004a952a0d"
      },
      "execution_count": null,
      "outputs": [
        {
          "output_type": "stream",
          "name": "stdout",
          "text": [
            "importing Jupyter notebook from Car.ipynb\n"
          ]
        },
        {
          "output_type": "stream",
          "name": "stderr",
          "text": [
            "/usr/local/lib/python3.7/dist-packages/gym/logger.py:30: UserWarning: \u001b[33mWARN: Box bound precision lowered by casting to float32\u001b[0m\n",
            "  warnings.warn(colorize('%s: %s'%('WARN', msg % args), 'yellow'))\n"
          ]
        }
      ]
    },
    {
      "cell_type": "markdown",
      "source": [
        "# Plot Lidar\n",
        "\n",
        "This is just an example illustrating how to plot LiDAR in case you need to"
      ],
      "metadata": {
        "id": "0Ztcf5SGnoxb"
      }
    },
    {
      "cell_type": "code",
      "source": [
        "w.plot_lidar()"
      ],
      "metadata": {
        "colab": {
          "base_uri": "https://localhost:8080/",
          "height": 265
        },
        "id": "032jtoiZnyCj",
        "outputId": "62b81257-6224-4e2f-f3ff-6c3e81744ffa"
      },
      "execution_count": null,
      "outputs": [
        {
          "output_type": "display_data",
          "data": {
            "text/plain": [
              "<Figure size 432x288 with 1 Axes>"
            ],
            "image/png": "[encoded data removed]"
          },
          "metadata": {
            "needs_background": "light"
          }
        }
      ]
    },
    {
      "cell_type": "markdown",
      "source": [
        "# PID Controller"
      ],
      "metadata": {
        "id": "qmG_tG5nn2F6"
      }
    },
    {
      "cell_type": "code",
      "source": [
        "def pid_control(error, int_error, d_error):\n",
        "\n",
        "    proportional_gain = 10\n",
        "    integral_gain = 0.1\n",
        "    derivative_gain = 8\n",
        "\n",
        "    #multiply error by constant\n",
        "    Up = proportional_gain * error\n",
        "    #multiply error by integral - (response to error accumulated over time)\n",
        "    Ui = integral_gain * int_error\n",
        "    #multiply error by derivative\n",
        "    Ud= derivative_gain * d_error\n",
        "    #derivative error is equal to (current error - previous error )/time response to current rate of change of error\n",
        "\n",
        "    #add together into variable \"u\"\n",
        "    u = Up + Ui + Ud\n",
        "\n",
        "    return u"
      ],
      "metadata": {
        "id": "VePkDSi4KUJ2"
      },
      "execution_count": null,
      "outputs": []
    },
    {
      "cell_type": "markdown",
      "source": [
        "# Control Loop"
      ],
      "metadata": {
        "id": "kgroNkakI4iR"
      }
    },
    {
      "cell_type": "code",
      "source": [
        "#choose different gains for the lidar\n",
        "def pid_control(error, int_error, d_error):\n",
        "\n",
        "    proportional_gain = 10\n",
        "    integral_gain = 0.1\n",
        "    derivative_gain = 8\n",
        "\n",
        "    #multiply error by constant\n",
        "    Up = proportional_gain * error\n",
        "    #multiply error by integral - (response to error accumulated over time)\n",
        "    Ui = integral_gain * int_error\n",
        "    #multiply error by derivative\n",
        "    Ud= derivative_gain * d_error\n",
        "    #derivative error is equal to (current error - previous error )/time response to current rate of change of error\n",
        "\n",
        "    #add together into variable \"u\"\n",
        "    u = Up + Ui + Ud\n",
        "\n",
        "    return u"
      ],
      "metadata": {
        "id": "CmIWPHJ5qk5O"
      },
      "execution_count": null,
      "outputs": []
    },
    {
      "cell_type": "code",
      "source": [
        "''' observation is an array of 5 elements:\n",
        "[distance to left wall,\n",
        "distance to right wall,\n",
        "distance to front wall,\n",
        "distance to turn,\n",
        "heading w.r.t hallway]\n",
        "'''\n",
        "\n",
        "# initial position noise parameters\n",
        "side_pos_noise = 0.25\n",
        "heading_noise = 0.1\n",
        "front_pos_noise = 0\n",
        "\n",
        "# reset the environment\n",
        "observation = w.reset(pos_noise=side_pos_noise, heading_noise=heading_noise, front_pos_noise=front_pos_noise)\n",
        "\n",
        "\n",
        "# your code goes here and in the loop below\n",
        "pos_reference = 1\n",
        "err = observation[0] - 1\n",
        "int_err = 0\n",
        "d_err = 0\n",
        "\n",
        "delta = pid_control(err, int_err, d_err)\n",
        "\n",
        "for e in range(episode_length):\n",
        "    observation, reward, done, info = w.step(delta, throttle)\n",
        "    delta = pid_control(err, int_err, d_err)\n",
        "    int_err += err\n",
        "    new_err = observation[0] - 1\n",
        "    d_err = (new_err-err)/0.1\n",
        "    err = new_err\n",
        "\n",
        "    if done:\n",
        "        if e < episode_length - 1:\n",
        "          print('Unsafe!')\n",
        "          break\n",
        "\n",
        "w.plot_trajectory()\n"
      ],
      "metadata": {
        "colab": {
          "base_uri": "https://localhost:8080/",
          "height": 265
        },
        "id": "ax8KRFc1IFBh",
        "outputId": "e732e2dd-69bf-4dbc-c0c3-9c6a29d5241f"
      },
      "execution_count": null,
      "outputs": [
        {
          "output_type": "display_data",
          "data": {
            "text/plain": [
              "<Figure size 432x288 with 1 Axes>"
            ],
            "image/png": "[encoded data removed]"
          },
          "metadata": {
            "needs_background": "light"
          }
        }
      ]
    },
    {
      "cell_type": "markdown",
      "source": [
        "# Set up Car world (with lidar feedback)\n",
        "\n",
        "This code is reusing variables from above, so make sure you run those cells first"
      ],
      "metadata": {
        "id": "KHY3FM1wY87B"
      }
    },
    {
      "cell_type": "code",
      "source": [
        "# Set this to false if you'd like to use lidar\n",
        "state_feedback = False\n",
        "\n",
        "w_true = World(hallWidths, hallLengths, turns,\\\n",
        "          car_dist_s, car_dist_f, car_heading, car_V,\\\n",
        "          episode_length, time_step, lidar_field_of_view,\\\n",
        "          lidar_num_rays, lidar_noise, missing_lidar_rays,\\\n",
        "          lidar_missing_in_turn_only, state_feedback=state_feedback)\n",
        "\n",
        "throttle = 16"
      ],
      "metadata": {
        "colab": {
          "base_uri": "https://localhost:8080/"
        },
        "id": "Q-1eYA6JY4DU",
        "outputId": "f5cd7648-dea4-4f75-8b78-4c9ad38816c4"
      },
      "execution_count": null,
      "outputs": [
        {
          "output_type": "stream",
          "name": "stderr",
          "text": [
            "/usr/local/lib/python3.7/dist-packages/gym/logger.py:30: UserWarning: \u001b[33mWARN: Box bound precision lowered by casting to float32\u001b[0m\n",
            "  warnings.warn(colorize('%s: %s'%('WARN', msg % args), 'yellow'))\n"
          ]
        }
      ]
    },
    {
      "cell_type": "markdown",
      "source": [
        "# Control and Estimation loop"
      ],
      "metadata": {
        "id": "IaRUhVZkdE1H"
      }
    },
    {
      "cell_type": "code",
      "source": [
        "import copy\n",
        "import matplotlib.pyplot as plt\n",
        "import numpy as np\n",
        "from scipy.stats import multivariate_normal\n",
        "\n",
        "# PARTICLE FILTER PARAMETERS\n",
        "# initialize particles\n",
        "num_particles = 100\n",
        "\n",
        "# initial noise parameters\n",
        "initial_x_noise = 0.3\n",
        "initial_y_noise = 0.3\n",
        "initial_theta_noise = 0.1\n",
        "\n",
        "# dynamics noise parameters\n",
        "x_dynamics_noise = 0.05\n",
        "y_dynamics_noise = 0.05\n",
        "v_dynamics_noise = 0.01\n",
        "theta_dynamics_noise = 0.01\n",
        "\n",
        "observation = w_true.reset()\n",
        "\n",
        "# initialize data holders\n",
        "allX = []\n",
        "allY = []\n",
        "allTheta = []\n",
        "allLidar = []\n",
        "allV = []\n",
        "allTimes = []\n",
        "allParticles = []\n",
        "\n",
        "# create particles\n",
        "particle_list = []\n",
        "for i in range(num_particles):\n",
        "\n",
        "    init_x = car_dist_s + initial_x_noise * (2 * np.random.random() - 1)\n",
        "    init_y = car_dist_f + initial_x_noise * (2 * np.random.random() - 1)\n",
        "    init_theta = car_heading + initial_theta_noise * (2 * np.random.random() - 1)\n",
        "\n",
        "    w = World(hallWidths, hallLengths, turns,\\\n",
        "              init_x, init_y, init_theta, car_V,\\\n",
        "              episode_length, time_step, lidar_field_of_view,\\\n",
        "              lidar_num_rays, lidar_noise, missing_lidar_rays)\n",
        "\n",
        "    particle_list.append(w)\n",
        "\n",
        "allParticles.append(particle_list)\n",
        "\n",
        "# your code goes here and in the loop below\n",
        "pos_reference = 1\n",
        "err = observation[0] - 1\n",
        "int_err = 0\n",
        "d_err = 0\n",
        "particle_weights = [1/num_particles for i in range(num_particles)]\n",
        "\n",
        "\n",
        "\n",
        "\n",
        "delta = pid_control(err, int_err, d_err)\n",
        "\n",
        "for e in range(episode_length):\n",
        "\n",
        "    observation, reward, done, info = w_true.step(delta, throttle)\n",
        "    true_scan = w_true.scan_lidar()\n",
        "    # compute particle weights\n",
        "        #implement gaussian pdf and set weights based on distance to measurement\n",
        "        #we want to calculate difference between particle lidar scan and our actual lidar scan\n",
        "        #multiply previous weights by current weights to create new weights\n",
        "    multivar_weights = []\n",
        "    for p in allParticles[0]:\n",
        "        weights = multivariate_normal.pdf(p.scan_lidar(), true_scan)\n",
        "        multivar_weights.append(weights)\n",
        "    for i in range(len(allParticles[0])):\n",
        "        particle_weights[i] *= multivar_weights[i]\n",
        "\n",
        "    # normalize weights\n",
        "        #normalize weights to sum up to 1\n",
        "\n",
        "    particle_weights /= sum(particle_weights)\n",
        "    #print(particle_weights)\n",
        "    #print(sum(particle_weights))\n",
        "    # resample particles\n",
        "        #remove low probability particles from the system based on their weights\n",
        "        #resample particles to fit the distribution so that their weights are equal again\n",
        "    resampled_particles = []\n",
        "    for i in range(num_particles):\n",
        "        resampled_particles.append(copy.deepcopy(np.random.choice(allParticles[0], p=particle_weights, replace=True)))\n",
        "    allParticles[0] = resampled_particles\n",
        "    # compute state estimates and errors for the pid controller\n",
        "        # average position and heading of all particles\n",
        "    avg_dist = 0\n",
        "    avg_heading = 0\n",
        "    for p in allParticles[0]:\n",
        "        avg_dist += p.car_dist_s\n",
        "        avg_heading += p.car_heading\n",
        "\n",
        "    avg_dist /= num_particles\n",
        "    avg_heading /= num_particles\n",
        "\n",
        "\n",
        "    delta = pid_control(err, int_err, d_err)\n",
        "\n",
        "    int_err += err\n",
        "    new_err = avg_dist - 1\n",
        "    d_err = (new_err-err)/0.1\n",
        "    err = new_err\n",
        "\n",
        "\n",
        "    # progress particles\n",
        "        #predict where each particle would move if they followed the same path as the car\n",
        "    for p in allParticles[0]:\n",
        "        p.step(delta, throttle)\n",
        "\n",
        "\n",
        "    # break if done\n",
        "    if done:\n",
        "        if e < episode_length - 1:\n",
        "          #print('Unsafe!')\n",
        "          #break\n",
        "          pass\n",
        "\n",
        "# plot trajectories\n",
        "fig = plt.figure()\n",
        "w_true.plotHalls()\n",
        "\n",
        "# true trajectory\n",
        "plt.plot(w_true.allX, w_true.allY, 'r--')\n",
        "\n",
        "# estimated trajectory\n",
        "plt.plot(allX, allY, 'g--')"
      ],
      "metadata": {
        "colab": {
          "base_uri": "https://localhost:8080/",
          "height": 317
        },
        "id": "uONWdDj_c_IQ",
        "outputId": "de808b02-1217-4531-faa5-c93347f1247c"
      },
      "execution_count": null,
      "outputs": [
        {
          "output_type": "stream",
          "name": "stderr",
          "text": [
            "/usr/local/lib/python3.7/dist-packages/gym/logger.py:30: UserWarning: \u001b[33mWARN: Box bound precision lowered by casting to float32\u001b[0m\n",
            "  warnings.warn(colorize('%s: %s'%('WARN', msg % args), 'yellow'))\n"
          ]
        },
        {
          "output_type": "execute_result",
          "data": {
            "text/plain": [
              "[<matplotlib.lines.Line2D at 0x7faa5bca66d0>]"
            ]
          },
          "metadata": {},
          "execution_count": 9
        },
        {
          "output_type": "display_data",
          "data": {
            "text/plain": [
              "<Figure size 432x288 with 1 Axes>"
            ],
            "image/png": "[encoded data removed]"
          },
          "metadata": {
            "needs_background": "light"
          }
        }
      ]
    },
    {
      "cell_type": "code",
      "source": [],
      "metadata": {
        "id": "RBRlap0mo7Ir"
      },
      "execution_count": null,
      "outputs": []
    }
  ]
}